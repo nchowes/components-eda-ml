{
 "cells": [
  {
   "cell_type": "markdown",
   "metadata": {},
   "source": [
    "# prototype-sequence-engineer \n",
    "\n",
    "Feature engineering methods for sequence data\n",
    "\n",
    "NCH 2022"
   ]
  },
  {
   "cell_type": "markdown",
   "metadata": {},
   "source": [
    "## Sub-task: full sequence feature extraction"
   ]
  },
  {
   "cell_type": "code",
   "execution_count": null,
   "metadata": {},
   "outputs": [],
   "source": [
    "import pandas as pd\n",
    "import numpy as np\n",
    "import scipy.stats as stats\n",
    "\n",
    "def eng_descriptive_statistics(df: pd.DataFrame, by, features):\n",
    "    \"\"\"Engineer descriptive statistics on full length sequence data\n",
    "\n",
    "    Args:\n",
    "        df (pd.DataFrame): input data \n",
    "        by (str or list): grouping variable\n",
    "        features (str or list): features to include \n",
    "\n",
    "    Returns:\n",
    "        pd.DataFrame (multi-index): engineered features by observation (e.g., sequence)\n",
    "\n",
    "    NCH 2022\n",
    "\n",
    "    \"\"\"\n",
    "    metrics = [\n",
    "        ('mean', np.mean),\n",
    "        ('std', np.std),\n",
    "        ('min', np.min),\n",
    "        ('max', np.max),\n",
    "        ('median', np.median),\n",
    "        ('mad', lambda x: np.median(np.absolute(x-np.median(x)))),\n",
    "        ('aad', lambda x: np.mean(np.absolute(x-np.mean(x)))),\n",
    "        ('range', lambda x: np.max(x)-np.min(x)),\n",
    "        ('iqr', lambda x: np.percentile(x, 75) - np.percentile(x, 25)),\n",
    "        ('pc', lambda x: np.sum(x > 0)),\n",
    "        ('nc', lambda x: np.sum(x < 0)),\n",
    "        ('vam', lambda x: np.sum(x > np.mean(x))),\n",
    "        ('skew', stats.skew),\n",
    "        ('kurt', stats.kurtosis),\n",
    "        ('energy', lambda x: np.sum((x**2)/100))\n",
    "        ]\n",
    "    return df.groupby(by)[features].agg(metrics)"
   ]
  }
 ],
 "metadata": {
  "interpreter": {
   "hash": "3291d1894b67dae3135f70592f6e0e69009397315dce272a88cef7b2f379e56b"
  },
  "kernelspec": {
   "display_name": "Python 3.9.7 ('sci-stack')",
   "language": "python",
   "name": "python3"
  },
  "language_info": {
   "name": "python",
   "version": "3.9.7"
  },
  "orig_nbformat": 4
 },
 "nbformat": 4,
 "nbformat_minor": 2
}
